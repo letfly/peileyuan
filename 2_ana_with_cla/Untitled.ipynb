{
 "cells": [
  {
   "cell_type": "code",
   "execution_count": null,
   "metadata": {
    "collapsed": false
   },
   "outputs": [],
   "source": [
    "%matplotlib inline\n",
    "import pandas as pd\n",
    "\n",
    "train = pd.read_csv(\"./data.csv\")\n",
    "train.info()"
   ]
  },
  {
   "cell_type": "code",
   "execution_count": null,
   "metadata": {
    "collapsed": false,
    "scrolled": false,
    "slideshow": {
     "slide_type": "subslide"
    }
   },
   "outputs": [],
   "source": [
    "import seaborn as sns\n",
    "import matplotlib.pyplot as plt\n",
    "\n",
    "plt.figure(figsize=(60, 9))\n",
    "sns.countplot('deviceid', data=train)"
   ]
  },
  {
   "cell_type": "code",
   "execution_count": null,
   "metadata": {
    "collapsed": false,
    "slideshow": {
     "slide_type": "slide"
    }
   },
   "outputs": [],
   "source": [
    "sns.countplot(x='subid', data=train)"
   ]
  },
  {
   "cell_type": "code",
   "execution_count": null,
   "metadata": {
    "collapsed": false,
    "scrolled": false
   },
   "outputs": [],
   "source": [
    "sns.countplot(x='type', data=train)\n",
    "#%more neural_network.py"
   ]
  },
  {
   "cell_type": "code",
   "execution_count": null,
   "metadata": {
    "collapsed": false
   },
   "outputs": [],
   "source": [
    "import numpy as np\n",
    "%matplotlib inline\n",
    "from neural_network import NeuralNetwork\n",
    "from sklearn.cross_validation import train_test_split\n",
    "import matplotlib.pyplot as plt\n",
    "\n",
    "\n",
    "# 读取文件\n",
    "fr = open(\"./data.csv\")\n",
    "data_mat = []; label_mat = []\n",
    "dict_time = {}; fr.readline()\n",
    "# 读取当前行\n",
    "for line in fr.readlines()[4:]:\n",
    "    cur_line = line.strip().split(',')\n",
    "    time = cur_line[-1]; type = cur_line[3]\n",
    "    if time in dict_time:\n",
    "        dict_time[time][type] = cur_line[-2]\n",
    "    else:\n",
    "        dict_time[time] = {type: cur_line[-2]}\n",
    "# 生成新数据集\n",
    "x_arr = []\n",
    "for key in sorted(dict_time.keys()):\n",
    "    type_value = dict_time[key]\n",
    "    if '\"bat\"' not in type_value and len(type_value) == 4:\n",
    "        type_value_arr= [float(type_value['\"temp\"']), float(type_value['\"co2\"']), float(type_value['\"hum\"']), float(type_value['\"lx\"'])]\n",
    "        x_arr.append(type_value_arr)\n",
    "\n",
    "nn = NeuralNetwork([4,20,1], 'logistic')\n",
    "x_arr = np.array(x_arr)\n",
    "# data normalizate\n",
    "x_arr = np.where(x_arr>0, x_arr, np.NAN)\n",
    "mean_x = np.nanmean(x_arr, 0)\n",
    "x_arr = np.where(x_arr>0, x_arr, mean_x)\n",
    "x_min_max = np.max(x_arr, 0)-np.min(x_arr,0)\n",
    "x_arr = (x_arr-np.min(x_arr,0))/x_min_max\n",
    "y_arr = x_arr[:,0]\n",
    "# feature select\n",
    "## Maximum information based non parametric exploration\n",
    "from minepy import MINE\n",
    "m = MINE()\n",
    "print \"t时刻温度与t-1、t－2、t－3、t－4时刻的温度的MIC\"\n",
    "m.compute_score(x_arr[:-1,0],y_arr[1:])\n",
    "print m.mic()\n",
    "m.compute_score(x_arr[:-2,0],y_arr[2:])\n",
    "print m.mic()\n",
    "m.compute_score(x_arr[:-3,0],y_arr[3:])\n",
    "print m.mic()\n",
    "m.compute_score(x_arr[:-4,0],y_arr[4:])\n",
    "print m.mic()\n",
    "print \"t时刻温度与t-1、t－2、t－3、t－4时刻的二氧化碳浓度的MIC\"\n",
    "m.compute_score(x_arr[:-1,1],y_arr[1:])\n",
    "print m.mic()\n",
    "m.compute_score(x_arr[:-2,1],y_arr[2:])\n",
    "print m.mic()\n",
    "m.compute_score(x_arr[:-3,1],y_arr[3:])\n",
    "print m.mic()\n",
    "m.compute_score(x_arr[:-4,1],y_arr[4:])\n",
    "print m.mic()\n",
    "print \"t时刻温度与t-1、t－2、t－3、t－4时刻的湿度的MIC\"\n",
    "m.compute_score(x_arr[:-1,2],y_arr[1:])\n",
    "print m.mic()\n",
    "m.compute_score(x_arr[:-2,2],y_arr[2:])\n",
    "print m.mic()\n",
    "m.compute_score(x_arr[:-3,2],y_arr[3:])\n",
    "print m.mic()\n",
    "m.compute_score(x_arr[:-4,2],y_arr[4:])\n",
    "print m.mic()\n",
    "print \"t时刻温度与t-1、t－2、t－3、t－4时刻的光照的MIC\"\n",
    "m.compute_score(x_arr[:-1,3],y_arr[1:])\n",
    "print m.mic()\n",
    "m.compute_score(x_arr[:-2,3],y_arr[2:])\n",
    "print m.mic()\n",
    "m.compute_score(x_arr[:-3,3],y_arr[3:])\n",
    "print m.mic()\n",
    "m.compute_score(x_arr[:-4,3],y_arr[4:])\n",
    "print m.mic()\n"
   ]
  },
  {
   "cell_type": "code",
   "execution_count": null,
   "metadata": {
    "collapsed": false
   },
   "outputs": [],
   "source": [
    "nn = NeuralNetwork([4,20,1], 'logistic')\n",
    "x_train, x_test, y_train, y_test = train_test_split(x_arr[:-1], y_arr[1:])\n",
    "print \"start fitting\"\n",
    "nn.fit(x_train, y_train)\n",
    "errors = [];times = []\n",
    "for i in xrange(x_test.shape[0]):\n",
    "    o = nn.predict(x_test[i])\n",
    "    errors.append((y_test[i]-o)*x_min_max[0])\n",
    "    times.append(i)\n",
    "plt.plot(times, errors)\n",
    "plt.show()"
   ]
  },
  {
   "cell_type": "code",
   "execution_count": null,
   "metadata": {
    "collapsed": false
   },
   "outputs": [],
   "source": [
    "import numpy as np\n",
    "%matplotlib inline\n",
    "import seaborn as sns\n",
    "import xgboost as xgb\n",
    "from sklearn.cross_validation import train_test_split\n",
    "import matplotlib.pyplot as plt\n",
    "\n",
    "\n",
    "# 读取文件\n",
    "fr = open(\"./data.csv\")\n",
    "data_mat = []; label_mat = []\n",
    "dict_time = {}; fr.readline()\n",
    "# 读取当前行\n",
    "for line in fr.readlines()[4:12313]:\n",
    "    cur_line = line.strip().split(',')\n",
    "    time = cur_line[-1]; type = cur_line[3]\n",
    "    if time in dict_time:\n",
    "        dict_time[time][type] = cur_line[-2]\n",
    "    else:\n",
    "        dict_time[time] = {type: cur_line[-2]}\n",
    "# 生成新数据集\n",
    "x_arr = []\n",
    "for key in sorted(dict_time.keys()):\n",
    "    type_value = dict_time[key]\n",
    "    if len(type_value) == 4:\n",
    "        type_value_arr= [float(type_value['\"temp\"']), float(type_value['\"co2\"']), float(type_value['\"hum\"']), float(type_value['\"lx\"'])]\n",
    "        x_arr.append(type_value_arr)\n",
    "\n",
    "x_arr = np.array(x_arr); y_arr = np.array(y_arr)\n",
    "# data normalizate\n",
    "x_arr = np.where(x_arr>0, x_arr, np.NAN)\n",
    "mean_x = np.nanmean(x_arr, 0)\n",
    "x_arr = np.where(x_arr>0, x_arr, mean_x)\n",
    "x_min_max = np.max(x_arr, 0)-np.min(x_arr,0)\n",
    "x_arr = (x_arr-np.min(x_arr,0))/x_min_max\n",
    "y_arr = x_arr[:,0]\n",
    "\n",
    "x_train, x_test, y_train, y_test = train_test_split(x_arr[:-1], y_arr[1:])\n",
    "\n",
    "print \"start training\"\n",
    "xgb_model = xgb.XGBRegressor().fit(x_train, y_train)\n",
    "\n",
    "# this is prediction\n",
    "predictions = xgb_model.predict(x_test)\n",
    "errors = [];times = []\n",
    "for i in xrange(x_test.shape[0]):\n",
    "    errors.append((y_test[i]-predictions[i])*x_min_max[0])\n",
    "    times.append(i)\n",
    "plt.plot(times, errors)\n",
    "plt.show()"
   ]
  }
 ],
 "metadata": {
  "kernelspec": {
   "display_name": "Python 2",
   "language": "python",
   "name": "python2"
  },
  "language_info": {
   "codemirror_mode": {
    "name": "ipython",
    "version": 2
   },
   "file_extension": ".py",
   "mimetype": "text/x-python",
   "name": "python",
   "nbconvert_exporter": "python",
   "pygments_lexer": "ipython2",
   "version": "2.7.6"
  }
 },
 "nbformat": 4,
 "nbformat_minor": 0
}
