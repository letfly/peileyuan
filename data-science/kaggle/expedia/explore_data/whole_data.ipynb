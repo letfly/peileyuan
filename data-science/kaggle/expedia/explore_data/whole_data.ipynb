{
 "cells": [
  {
   "cell_type": "code",
   "execution_count": null,
   "metadata": {
    "collapsed": false
   },
   "outputs": [],
   "source": [
    "# This Python 3 environment comes with many helpful analytics libraries installed\n",
    "# It is defined by the kaggle/python docker image: https://github.com/kaggle/docker-python\n",
    "# For example, here's several helpful packages to load in \n",
    "%matplotlib inline\n",
    "import numpy as np # linear algebra\n",
    "import pandas as pd # data processing, CSV file I/O (e.g. pd.read_csv)\n",
    "\n",
    "# Input data files are available in the \"../input/\" directory.\n",
    "# For example, running this (by clicking run or pressing Shift+Enter) will list the files in the input directory\n",
    "\n",
    "from subprocess import check_output\n",
    "print(check_output([\"ls\", \"../input\"]).decode(\"utf8\"))\n",
    "\n",
    "# Any results you write to the current directory are saved as output."
   ]
  },
  {
   "cell_type": "code",
   "execution_count": null,
   "metadata": {
    "collapsed": false
   },
   "outputs": [],
   "source": [
    "# Get first 10000 rows and print some info about columns\n",
    "train = pd.read_csv(\"../input/train.csv\", parse_dates=['srch_ci', 'srch_co'], nrows=10000)\n",
    "train.info()"
   ]
  },
  {
   "cell_type": "code",
   "execution_count": null,
   "metadata": {
    "collapsed": false
   },
   "outputs": [],
   "source": [
    "import seaborn as sns\n",
    "import matplotlib.pyplot as plt\n",
    "# preferred continent destinations\n",
    "sns.countplot(x='hotel_continent', data=train)"
   ]
  },
  {
   "cell_type": "code",
   "execution_count": null,
   "metadata": {
    "collapsed": false
   },
   "outputs": [],
   "source": [
    "# most of people booking are from continent 3 I guess is one of the rich continent?\n",
    "sns.countplot(x='posa_continent', data=train)"
   ]
  },
  {
   "cell_type": "code",
   "execution_count": null,
   "metadata": {
    "collapsed": false
   },
   "outputs": [],
   "source": [
    "# putting the two above together\n",
    "sns.countplot(x='hotel_continent', hue='posa_continent', data=train)"
   ]
  },
  {
   "cell_type": "code",
   "execution_count": null,
   "metadata": {
    "collapsed": false
   },
   "outputs": [],
   "source": [
    "# how many people by continent are booking from mobile\n",
    "sns.countplot(x='posa_continent', hue='is_mobile', data = train)"
   ]
  },
  {
   "cell_type": "code",
   "execution_count": null,
   "metadata": {
    "collapsed": false
   },
   "outputs": [],
   "source": [
    "# Difference between user and destination country\n",
    "sns.distplot(train['user_location_country'], label=\"User country\")\n",
    "sns.distplot(train['hotel_country'], label=\"Hotel country\")\n",
    "plt.legend()"
   ]
  },
  {
   "cell_type": "code",
   "execution_count": null,
   "metadata": {
    "collapsed": false,
    "scrolled": true
   },
   "outputs": [],
   "source": [
    "import numpy as np\n",
    "# get number of booked nights as difference between check in and check out\n",
    "hotel_nights = train['srch_co'] - train['srch_ci'] \n",
    "hotel_nights = (hotel_nights / np.timedelta64(1, 'D')).astype(float) # convert to float to avoid NA problems\n",
    "train['hotel_nights'] = hotel_nights\n",
    "plt.figure(figsize=(11, 9))\n",
    "ax = sns.boxplot(x='hotel_continent', y='hotel_nights', data=train)\n",
    "lim = ax.set(ylim=(0, 15))"
   ]
  },
  {
   "cell_type": "code",
   "execution_count": null,
   "metadata": {
    "collapsed": false,
    "scrolled": false
   },
   "outputs": [],
   "source": [
    "plt.figure(figsize=(11, 9))\n",
    "sns.countplot(x=\"hotel_nights\", data=train)"
   ]
  },
  {
   "cell_type": "code",
   "execution_count": null,
   "metadata": {
    "collapsed": false
   },
   "outputs": [],
   "source": [
    "# distribution of the total number of people per cluster\n",
    "src_total_cnt = train.srch_adults_cnt + train.srch_children_cnt\n",
    "train['src_total_cnt'] = src_total_cnt\n",
    "ax = sns.kdeplot(train['hotel_cluster'], train['src_total_cnt'], cmap=\"Purples_d\")\n",
    "lim = ax.set(ylim=(0.5, 4.5))"
   ]
  },
  {
   "cell_type": "code",
   "execution_count": null,
   "metadata": {
    "collapsed": false,
    "scrolled": true
   },
   "outputs": [],
   "source": [
    "train.groupby(\"src_total_cnt\").max()"
   ]
  },
  {
   "cell_type": "code",
   "execution_count": null,
   "metadata": {
    "collapsed": false
   },
   "outputs": [],
   "source": [
    "# plot all columns countplots\n",
    "import numpy as np\n",
    "rows = train.columns.size//3 - 1\n",
    "fig, axes = plt.subplots(nrows=rows, ncols=3, figsize=(12,18))\n",
    "fig.tight_layout()\n",
    "i = 0\n",
    "j = 0\n",
    "for col in train.columns:\n",
    "    if j >= 3:\n",
    "        j = 0\n",
    "        i += 1\n",
    "    # avoid to plot by date    \n",
    "    if train[col].dtype == np.int64:\n",
    "        sns.countplot(x=col, data=train, ax=axes[i][j])\n",
    "        j += 1"
   ]
  },
  {
   "cell_type": "code",
   "execution_count": null,
   "metadata": {
    "collapsed": true
   },
   "outputs": [],
   "source": []
  }
 ],
 "metadata": {
  "kernelspec": {
   "display_name": "Python 2",
   "language": "python",
   "name": "python2"
  },
  "language_info": {
   "codemirror_mode": {
    "name": "ipython",
    "version": 2
   },
   "file_extension": ".py",
   "mimetype": "text/x-python",
   "name": "python",
   "nbconvert_exporter": "python",
   "pygments_lexer": "ipython2",
   "version": "2.7.6"
  }
 },
 "nbformat": 4,
 "nbformat_minor": 0
}
